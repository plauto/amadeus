{
 "cells": [
  {
   "cell_type": "markdown",
   "metadata": {},
   "source": [
    "Before starting...."
   ]
  },
  {
   "cell_type": "code",
   "execution_count": null,
   "metadata": {
    "collapsed": true
   },
   "outputs": [],
   "source": [
    "import pandas as pd\n",
    "import numpy as np \n",
    "\n",
    "# store CSV into HDF for performance reasons\n",
    "files = [\n",
    "    {\n",
    "        \"filename\": \"bookings.csv\", \n",
    "        \"fields\" : ['arr_port', 'dep_port', 'pax'],\n",
    "        \"mapping\" : {'arr_port':np.str, 'dep_port':np.str, 'pax':np.float64}\n",
    "    },\n",
    "    {\n",
    "        \"filename\": \"searches.csv\", \n",
    "        \"fields\" : ['Origin', 'Destination'], # means all\n",
    "        \"mapping\" : {\n",
    "            'Origin':np.str,\n",
    "            'Destination':np.str\n",
    "        }\n",
    "    }\n",
    "]\n",
    "\n",
    "def toHDF(filedata):\n",
    "    current_key_id = 1\n",
    "    filename_hdf = \"%s.%s\" % (filedata[\"filename\"].split(\".\")[0], \"h5\")\n",
    "    print \"Processing %s\" % filedata[\"filename\"]\n",
    "    for dataframe_chunk in pd.read_csv(filedata[\"filename\"], sep=\"^\", chunksize=50000, dtype=filedata[\"mapping\"]):\n",
    "        #trim column names\n",
    "        dataframe_chunk.columns = map(lambda x : x.strip(), dataframe_chunk.columns)\n",
    "        if len(filedata[\"fields\"]) > 0:\n",
    "            dataframe_chunk[filedata[\"fields\"]].to_hdf(filename_hdf, 'data', table=True, append=True)\n",
    "        else:\n",
    "            dataframe_chunk.to_hdf(filename_hdf, current_key, table=True, append=True)\n",
    "            \n",
    "        current_key_id += 1\n",
    "\n",
    "    print \"Done...\"\n",
    "\n",
    "for f in files:\n",
    "    toHDF(f)"
   ]
  },
  {
   "cell_type": "markdown",
   "metadata": {},
   "source": [
    "Exercise 1"
   ]
  },
  {
   "cell_type": "code",
   "execution_count": null,
   "metadata": {
    "collapsed": true
   },
   "outputs": [],
   "source": [
    "import pandas as pd\n",
    "import time \n",
    "\n",
    "# ex 1\n",
    "for f in files:\n",
    "    store = pd.HDFStore(f[\"filename\"].split(\".\")[0] + '.h5')\n",
    "    print \"%s has %d lines\" % (f[\"filename\"].split(\".\")[0], store.get_storer('data').nrows)"
   ]
  },
  {
   "cell_type": "markdown",
   "metadata": {},
   "source": [
    " Exercise 2"
   ]
  },
  {
   "cell_type": "code",
   "execution_count": null,
   "metadata": {
    "collapsed": true
   },
   "outputs": [],
   "source": [
    "import pandas as pd\n",
    "import time \n",
    "import os.path\n",
    "from GeoBases import GeoBase\n",
    "\n",
    "geo_o = GeoBase(data='ori_por', verbose=False)   \n",
    "\n",
    "def getTopAirports():\n",
    "    store = pd.HDFStore('bookings.h5')\n",
    "    df = store.select('data')\n",
    "    grouped_chunks = df.groupby('arr_port').sum()\n",
    "    final_dataframe = grouped_chunks.groupby(level=0).sum().sort('pax',ascending=0)\n",
    "    final_dataframe.to_hdf('top_airports.h5', 'data',format='table')\n",
    "    return final_dataframe\n",
    "\n",
    "def getTopNAirports(n):\n",
    "    if os.path.isfile('top_airports.h5'):\n",
    "        # already computed. Read from disk\n",
    "        df = pd.read_hdf('top_airports.h5', 'data', start=0, stop=n)\n",
    "        df.index = df.index.map(lambda code: geo_o.get(code.strip(), 'name'))\n",
    "        return df\n",
    "    else:\n",
    "        # compute\n",
    "        df = getTopAirports()[0:n]\n",
    "        df.index = df.index.map(lambda code: geo_o.get(code.strip(), 'name'))\n",
    "        return df\n",
    "\n",
    "getTopNAirports(10)"
   ]
  },
  {
   "cell_type": "markdown",
   "metadata": {},
   "source": [
    "Exercise 3"
   ]
  },
  {
   "cell_type": "code",
   "execution_count": null,
   "metadata": {
    "collapsed": true
   },
   "outputs": [],
   "source": [
    "%matplotlib inline\n",
    "import matplotlib.pyplot as plt\n",
    "\n",
    "airport_codes = ['AGP', 'MAD', 'BCN']\n",
    "airport_names = ['Malaga', 'Madrid', 'Barcellona']\n",
    "# read the data and extract the month for the selected airports\n",
    "chunks = []\n",
    "\n",
    "\n",
    "for c in pd.read_csv('searches.csv', sep=\"^\", chunksize=50000):\n",
    "    x = c[c[\"Destination\"].isin(airport_codes)]\n",
    "    x.ix[:, \"Month\"] = x[\"Date\"].apply(lambda x : x.split(\"-\")[1])\n",
    "    chunks.append( x[[\"Destination\", \"Month\"]].groupby(['Destination', 'Month']).size() )\n",
    "final_dataframe = pd.DataFrame(pd.concat(chunks, axis=1).sum(axis=1))\n",
    "plt.ylabel('nr. of passengers')\n",
    "plt.xlabel('months')\n",
    "plt.xticks(xrange(0,12), xrange(1,12))\n",
    "plt.title('Monthly searches for Malaga, Madrid, Barcelona')\n",
    "plt.hold(True)\n",
    "for i, airport in enumerate(airport_codes):\n",
    "    plt.plot(final_dataframe.xs(airport))\n",
    "plt.hold(False)\n",
    "plt.legend(airport_names)\n",
    "plt.show()"
   ]
  }
 ],
 "metadata": {
  "kernelspec": {
   "display_name": "Python 2",
   "language": "python",
   "name": "python2"
  },
  "language_info": {
   "codemirror_mode": {
    "name": "ipython",
    "version": 2
   },
   "file_extension": ".py",
   "mimetype": "text/x-python",
   "name": "python",
   "nbconvert_exporter": "python",
   "pygments_lexer": "ipython2",
   "version": "2.7.10"
  }
 },
 "nbformat": 4,
 "nbformat_minor": 0
}
