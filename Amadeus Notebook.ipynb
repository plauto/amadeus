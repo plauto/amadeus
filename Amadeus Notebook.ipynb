{
 "cells": [
  {
   "cell_type": "markdown",
   "metadata": {},
   "source": [
    "Before starting...."
   ]
  },
  {
   "cell_type": "code",
   "execution_count": null,
   "metadata": {
    "collapsed": true
   },
   "outputs": [],
   "source": [
    "import pandas as pd\n",
    "import numpy as np \n",
    "\n",
    "# store CSV into HDF for performance reasons\n",
    "files = [\n",
    "    {\n",
    "        \"filename\": \"bookings.csv\", \n",
    "        \"fields\" : ['arr_port', 'dep_port', 'pax'],\n",
    "        \"mapping\" : {'arr_port':np.str, 'dep_port':np.str, 'pax':np.float64}\n",
    "    },\n",
    "    {\n",
    "        \"filename\": \"searches.csv\", \n",
    "        \"fields\" : ['Origin', 'Destination'], # means all\n",
    "        \"mapping\" : {\n",
    "            'Origin':np.str,\n",
    "            'Destination':np.str\n",
    "        }\n",
    "    }\n",
    "]\n",
    "\n",
    "def toHDF(filedata):\n",
    "    current_key_id = 1\n",
    "    filename_hdf = \"%s.%s\" % (filedata[\"filename\"].split(\".\")[0], \"h5\")\n",
    "    print \"Processing %s\" % filedata[\"filename\"]\n",
    "    for dataframe_chunk in pd.read_csv(filedata[\"filename\"], sep=\"^\", chunksize=50000, dtype=filedata[\"mapping\"]):\n",
    "        #trim column names\n",
    "        dataframe_chunk.columns = map(lambda x : x.strip(), dataframe_chunk.columns)\n",
    "        if len(filedata[\"fields\"]) > 0:\n",
    "            dataframe_chunk[filedata[\"fields\"]].to_hdf(filename_hdf, 'data', table=True, append=True)\n",
    "        else:\n",
    "            dataframe_chunk.to_hdf(filename_hdf, current_key, table=True, append=True)\n",
    "            \n",
    "        current_key_id += 1\n",
    "\n",
    "    print \"Done...\"\n",
    "\n",
    "for f in files:\n",
    "    toHDF(f)"
   ]
  },
  {
   "cell_type": "markdown",
   "metadata": {},
   "source": [
    "Exercise 1"
   ]
  },
  {
   "cell_type": "code",
   "execution_count": null,
   "metadata": {
    "collapsed": true
   },
   "outputs": [],
   "source": [
    "import pandas as pd\n",
    "from multiprocessing import Pool\n",
    "import time \n",
    "\n",
    "# ex 1\n",
    "for f in files:\n",
    "    store = pd.HDFStore(f[\"filename\"].split(\".\")[0] + '.h5')\n",
    "    print \"%s has %d lines\" % (f[\"filename\"].split(\".\")[0], store.get_storer('data').nrows)"
   ]
  }
 ],
 "metadata": {
  "kernelspec": {
   "display_name": "Python 2",
   "language": "python",
   "name": "python2"
  },
  "language_info": {
   "codemirror_mode": {
    "name": "ipython",
    "version": 2
   },
   "file_extension": ".py",
   "mimetype": "text/x-python",
   "name": "python",
   "nbconvert_exporter": "python",
   "pygments_lexer": "ipython2",
   "version": "2.7.10"
  }
 },
 "nbformat": 4,
 "nbformat_minor": 0
}
