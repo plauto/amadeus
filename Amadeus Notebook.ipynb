{
 "cells": [
  {
   "cell_type": "markdown",
   "metadata": {},
   "source": [
    "Before starting...."
   ]
  },
  {
   "cell_type": "code",
   "execution_count": null,
   "metadata": {
    "collapsed": true
   },
   "outputs": [],
   "source": [
    "import pandas as pd\n",
    "import numpy as np \n",
    "\n",
    "# store CSV into HDF for performance reasons\n",
    "files = [\n",
    "    {\n",
    "        \"filename\": \"bookings.csv\", \n",
    "        \"fields\" : ['arr_port', 'dep_port', 'pax'],\n",
    "        \"mapping\" : {'arr_port':np.str, 'dep_port':np.str, 'pax':np.float64}\n",
    "    },\n",
    "    {\n",
    "        \"filename\": \"searches.csv\", \n",
    "        \"fields\" : ['Origin', 'Destination'], # means all\n",
    "        \"mapping\" : {\n",
    "            'Origin':np.str,\n",
    "            'Destination':np.str\n",
    "        }\n",
    "    }\n",
    "]\n",
    "\n",
    "def toHDF(filedata):\n",
    "    current_key_id = 1\n",
    "    filename_hdf = \"%s.%s\" % (filedata[\"filename\"].split(\".\")[0], \"h5\")\n",
    "    print \"Processing %s\" % filedata[\"filename\"]\n",
    "    for dataframe_chunk in pd.read_csv(filedata[\"filename\"], sep=\"^\", chunksize=50000, dtype=filedata[\"mapping\"]):\n",
    "        #trim column names\n",
    "        dataframe_chunk.columns = map(lambda x : x.strip(), dataframe_chunk.columns)\n",
    "        if len(filedata[\"fields\"]) > 0:\n",
    "            dataframe_chunk[filedata[\"fields\"]].to_hdf(filename_hdf, 'data', table=True, append=True)\n",
    "        else:\n",
    "            dataframe_chunk.to_hdf(filename_hdf, current_key, table=True, append=True)\n",
    "            \n",
    "        current_key_id += 1\n",
    "\n",
    "    print \"Done...\"\n",
    "\n",
    "for f in files:\n",
    "    toHDF(f)"
   ]
  },
  {
   "cell_type": "markdown",
   "metadata": {},
   "source": [
    "Exercise 1"
   ]
  },
  {
   "cell_type": "code",
   "execution_count": null,
   "metadata": {
    "collapsed": true
   },
   "outputs": [],
   "source": [
    "import pandas as pd\n",
    "import time \n",
    "\n",
    "# ex 1\n",
    "for f in files:\n",
    "    store = pd.HDFStore(f[\"filename\"].split(\".\")[0] + '.h5')\n",
    "    print \"%s has %d lines\" % (f[\"filename\"].split(\".\")[0], store.get_storer('data').nrows)"
   ]
  },
  {
   "cell_type": "markdown",
   "metadata": {},
   "source": [
    " Exercise 2"
   ]
  },
  {
   "cell_type": "code",
   "execution_count": null,
   "metadata": {
    "collapsed": true
   },
   "outputs": [],
   "source": [
    "import pandas as pd\n",
    "import time \n",
    "import os.path\n",
    "from GeoBases import GeoBase\n",
    "\n",
    "geo_o = GeoBase(data='ori_por', verbose=False)   \n",
    "\n",
    "def getTopAirports():\n",
    "    store = pd.HDFStore('bookings.h5')\n",
    "    df = store.select('data')\n",
    "    grouped_chunks = df.groupby('arr_port').sum()\n",
    "    final_dataframe = grouped_chunks.groupby(level=0).sum().sort('pax',ascending=0)\n",
    "    final_dataframe.to_hdf('top_airports.h5', 'data',format='table')\n",
    "    return final_dataframe\n",
    "\n",
    "def getTopNAirports(n):\n",
    "    if os.path.isfile('top_airports.h5'):\n",
    "        # already computed. Read from disk\n",
    "        df = pd.read_hdf('top_airports.h5', 'data', start=0, stop=n)\n",
    "        df.index = df.index.map(lambda code: geo_o.get(code.strip(), 'name'))\n",
    "        return df\n",
    "    else:\n",
    "        # compute\n",
    "        df = getTopAirports()[0:n]\n",
    "        df.index = df.index.map(lambda code: geo_o.get(code.strip(), 'name'))\n",
    "        return df\n",
    "\n",
    "getTopNAirports(10)"
   ]
  },
  {
   "cell_type": "markdown",
   "metadata": {},
   "source": [
    "Exercise 3"
   ]
  },
  {
   "cell_type": "code",
   "execution_count": null,
   "metadata": {
    "collapsed": true
   },
   "outputs": [],
   "source": [
    "%matplotlib inline\n",
    "import matplotlib.pyplot as plt\n",
    "\n",
    "airport_codes = ['AGP', 'MAD', 'BCN']\n",
    "airport_names = ['Malaga', 'Madrid', 'Barcellona']\n",
    "# read the data and extract the month for the selected airports\n",
    "chunks = []\n",
    "\n",
    "\n",
    "for c in pd.read_csv('searches.csv', sep=\"^\", chunksize=50000):\n",
    "    x = c[c[\"Destination\"].isin(airport_codes)]\n",
    "    x.ix[:, \"Month\"] = x[\"Date\"].apply(lambda x : x.split(\"-\")[1])\n",
    "    chunks.append( x[[\"Destination\", \"Month\"]].groupby(['Destination', 'Month']).size() )\n",
    "final_dataframe = pd.DataFrame(pd.concat(chunks, axis=1).sum(axis=1))\n",
    "plt.ylabel('nr. of passengers')\n",
    "plt.xlabel('months')\n",
    "plt.xticks(xrange(0,12), xrange(1,12))\n",
    "plt.title('Monthly searches for Malaga, Madrid, Barcelona')\n",
    "plt.hold(True)\n",
    "for i, airport in enumerate(airport_codes):\n",
    "    plt.plot(final_dataframe.xs(airport))\n",
    "plt.hold(False)\n",
    "plt.legend(airport_names)\n",
    "plt.show()"
   ]
  },
  {
   "cell_type": "markdown",
   "metadata": {},
   "source": [
    "Exercise 4"
   ]
  },
  {
   "cell_type": "code",
   "execution_count": null,
   "metadata": {
    "collapsed": true
   },
   "outputs": [],
   "source": [
    "import pandas as pd\n",
    "import numpy as np\n",
    "import itertools\n",
    "#match searches.csv (Origin, Destination, Date, Seg1Departure) \n",
    "#match bookings.csv  (dep_port, arr_port, cre_date, brd_time)\n",
    "\n",
    "# get tot bookings for each pair Origin, Destination\n",
    "bookings_df = pd.read_hdf('bookings.h5', 'data')\n",
    "bookings_df.ix[:, 'arr_port']=bookings_df.ix[:, 'arr_port'].apply(lambda x: x.strip())\n",
    "bookings_df.ix[:, 'dep_port']=bookings_df.ix[:, 'dep_port'].apply(lambda x: x.strip())\n",
    "grouped_bookings = pd.DataFrame(bookings_df[['arr_port', 'dep_port']].groupby(['arr_port', 'dep_port']).size())\n",
    "grouped_bookings.columns = ['count']\n",
    "grouped_bookings.index.names = ['Origin', 'Destination']\n",
    "grouped_bookings=grouped_bookings.reset_index()\n",
    "# get groups for each pair Origin, Destination within the searches.csv\n",
    "searches_df = pd.read_hdf('searches.h5', 'data').reset_index(drop=True)\n",
    "searches_gp = searches_df.groupby(['Origin', 'Destination'])\n",
    "searches_gp_indices = searches_gp.indices\n",
    "# count successfull bookings and get indices for each group\n",
    "searches_df['count'] = 0\n",
    "searches_df['indices'] = ''\n",
    "grouped_searches = searches_df.groupby(['Origin', 'Destination'], sort=False).agg({'count': np.size, 'indices': lambda x : [x.index.tolist()]})\n",
    "grouped_searches=grouped_searches.reset_index()\n",
    "grouped_searches\n",
    "# merge\n",
    "merged = pd.merge(grouped_bookings, grouped_searches, on=['Origin','Destination'])\n",
    "merged['count_min'] = merged[['count_x', 'count_y']].min(axis=1)\n",
    "merged.drop(['count_x', 'count_y'], axis=1, inplace=True)\n",
    "# clip to the list to count_min\n",
    "def ciao(x):\n",
    "    return [x['indices'][0][1:x['count_min']]]\n",
    "merged['indices'] = merged.apply(lambda x: ciao(x), axis=1)\n",
    "# flatten list of lists. Itertools has been called twice because the list is nested \n",
    "successful_searches_idx = merged['indices'].tolist()\n",
    "successful_searches_idx = list(itertools.chain.from_iterable(successful_searches_idx))\n",
    "successful_searches_idx = list(itertools.chain.from_iterable(successful_searches_idx))\n",
    "# now save the results in the csv\n",
    "chunk_id = 0\n",
    "chunk_size = 50000\n",
    "for dataframe_chunk in pd.read_csv('searches.csv', sep='^', chunksize=50000):\n",
    "    dataframe_chunk['successful_booking'] = 0\n",
    "    dataframe_chunk.reset_index(drop=True)\n",
    "    dataframe_chunk.index = [x+chunk_size*chunk_id for x in dataframe_chunk.index]\n",
    "    dataframe_chunk.loc[dataframe_chunk[dataframe_chunk.index.isin(successful_searches_idx)].index, 'successful_booking'] = 1    \n",
    "    chunk_id += 1\n",
    "    dataframe_chunk.to_csv('matched_searches.csv', sep='^', index=False, mode='a', chunksize=chunk_size)"
   ]
  }
 ],
 "metadata": {
  "kernelspec": {
   "display_name": "Python 2",
   "language": "python",
   "name": "python2"
  },
  "language_info": {
   "codemirror_mode": {
    "name": "ipython",
    "version": 2
   },
   "file_extension": ".py",
   "mimetype": "text/x-python",
   "name": "python",
   "nbconvert_exporter": "python",
   "pygments_lexer": "ipython2",
   "version": "2.7.10"
  }
 },
 "nbformat": 4,
 "nbformat_minor": 0
}
